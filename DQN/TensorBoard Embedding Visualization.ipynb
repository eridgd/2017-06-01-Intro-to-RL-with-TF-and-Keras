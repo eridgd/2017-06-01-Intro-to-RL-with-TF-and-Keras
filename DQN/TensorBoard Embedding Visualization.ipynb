{
 "cells": [
  {
   "cell_type": "markdown",
   "metadata": {},
   "source": [
    "# TensorBoard Embedding Projector for Visualization\n",
    "\n",
    "This notebook introduces the **TensorBoard Embedding Projector** tool for visualizing high-dimensional vector spaces in 2D/3D.\n",
    "\n",
    "First, we'll generate observation/state samples by playing games using the pretrained DQN. Observations will stored with probability 0.5% to minimize correlation and sample from a wide variety of episodes."
   ]
  },
  {
   "cell_type": "code",
   "execution_count": 1,
   "metadata": {},
   "outputs": [
    {
     "name": "stderr",
     "output_type": "stream",
     "text": [
      "Using TensorFlow backend.\n"
     ]
    }
   ],
   "source": [
    "import gym\n",
    "import random\n",
    "import numpy as np\n",
    "from dqn import Agent, Util\n",
    "import tensorflow as tf"
   ]
  },
  {
   "cell_type": "code",
   "execution_count": 2,
   "metadata": {},
   "outputs": [
    {
     "name": "stderr",
     "output_type": "stream",
     "text": [
      "[2017-05-31 17:11:20,374] Making new env: Breakout-v0\n"
     ]
    },
    {
     "name": "stdout",
     "output_type": "stream",
     "text": [
      "Environment <TimeLimit<AtariEnv<Breakout-v0>>> has 4 actions\n",
      "INFO:tensorflow:Restoring parameters from saved_networks/Breakout-v0-44400000\n"
     ]
    },
    {
     "name": "stderr",
     "output_type": "stream",
     "text": [
      "[2017-05-31 17:11:20,921] Restoring parameters from saved_networks/Breakout-v0-44400000\n"
     ]
    },
    {
     "name": "stdout",
     "output_type": "stream",
     "text": [
      "Successfully loaded: saved_networks/Breakout-v0-44400000\n"
     ]
    }
   ],
   "source": [
    "# Create our gym environment\n",
    "env = gym.make('Breakout-v0')\n",
    "# And pass it to the Agent to initialize the pretrained network\n",
    "agent = Agent(env, mode='test', load_network=True, epsilon=0.01)"
   ]
  },
  {
   "cell_type": "code",
   "execution_count": 3,
   "metadata": {},
   "outputs": [
    {
     "name": "stdout",
     "output_type": "stream",
     "text": [
      "Finished episode: 1 with reward 136.0 sample count: 25\n",
      "Finished episode: 2 with reward 146.0 sample count: 43\n",
      "Finished episode: 3 with reward 227.0 sample count: 78\n",
      "Finished episode: 4 with reward 55.0 sample count: 90\n",
      "Finished episode: 5 with reward 105.0 sample count: 112\n",
      "Finished episode: 6 with reward 160.0 sample count: 126\n",
      "Finished episode: 7 with reward 103.0 sample count: 137\n",
      "Finished episode: 8 with reward 96.0 sample count: 156\n",
      "Finished episode: 9 with reward 155.0 sample count: 174\n",
      "Finished episode: 10 with reward 196.0 sample count: 217\n",
      "Finished episode: 11 with reward 129.0 sample count: 239\n",
      "Finished episode: 12 with reward 110.0 sample count: 268\n",
      "Finished episode: 13 with reward 92.0 sample count: 284\n",
      "Finished episode: 14 with reward 166.0 sample count: 313\n",
      "Finished episode: 15 with reward 176.0 sample count: 336\n",
      "Finished episode: 16 with reward 90.0 sample count: 355\n",
      "Finished episode: 17 with reward 74.0 sample count: 376\n",
      "Finished episode: 18 with reward 124.0 sample count: 398\n",
      "Finished episode: 19 with reward 192.0 sample count: 422\n",
      "Finished episode: 20 with reward 173.0 sample count: 463\n",
      "Finished episode: 21 with reward 149.0 sample count: 484\n",
      "Finished episode: 22 with reward 116.0 sample count: 508\n",
      "Finished episode: 23 with reward 127.0 sample count: 526\n",
      "Finished episode: 24 with reward 45.0 sample count: 543\n",
      "Finished episode: 25 with reward 53.0 sample count: 556\n",
      "Finished episode: 26 with reward 44.0 sample count: 570\n",
      "Finished episode: 27 with reward 79.0 sample count: 598\n",
      "Finished episode: 28 with reward 101.0 sample count: 619\n",
      "Finished episode: 29 with reward 82.0 sample count: 630\n",
      "Finished episode: 30 with reward 70.0 sample count: 641\n",
      "Finished episode: 31 with reward 89.0 sample count: 667\n",
      "Finished episode: 32 with reward 152.0 sample count: 689\n",
      "Finished episode: 33 with reward 61.0 sample count: 705\n",
      "Finished episode: 34 with reward 79.0 sample count: 725\n",
      "Finished episode: 35 with reward 61.0 sample count: 743\n",
      "Finished episode: 36 with reward 227.0 sample count: 760\n",
      "Finished episode: 37 with reward 60.0 sample count: 778\n",
      "Finished episode: 38 with reward 144.0 sample count: 802\n",
      "Finished episode: 39 with reward 80.0 sample count: 827\n",
      "Finished episode: 40 with reward 125.0 sample count: 839\n",
      "Finished episode: 41 with reward 132.0 sample count: 860\n",
      "Finished episode: 42 with reward 96.0 sample count: 881\n",
      "Finished episode: 43 with reward 123.0 sample count: 906\n",
      "Finished episode: 44 with reward 111.0 sample count: 923\n",
      "Finished episode: 45 with reward 122.0 sample count: 950\n",
      "Finished episode: 46 with reward 149.0 sample count: 972\n",
      "Finished episode: 47 with reward 103.0 sample count: 995\n",
      "Finished episode: 48 with reward 296.0 sample count: 1017\n",
      "Finished episode: 49 with reward 269.0 sample count: 1046\n",
      "Finished episode: 50 with reward 89.0 sample count: 1063\n",
      "Finished episode: 51 with reward 80.0 sample count: 1086\n",
      "Finished episode: 52 with reward 104.0 sample count: 1105\n",
      "Finished episode: 53 with reward 75.0 sample count: 1119\n",
      "Finished episode: 54 with reward 105.0 sample count: 1141\n",
      "Finished episode: 55 with reward 65.0 sample count: 1150\n",
      "Finished episode: 56 with reward 79.0 sample count: 1167\n",
      "Finished episode: 57 with reward 116.0 sample count: 1192\n",
      "Finished episode: 58 with reward 110.0 sample count: 1209\n",
      "Finished episode: 59 with reward 90.0 sample count: 1237\n",
      "Finished episode: 60 with reward 63.0 sample count: 1256\n",
      "Finished episode: 61 with reward 161.0 sample count: 1285\n",
      "Finished episode: 62 with reward 89.0 sample count: 1305\n",
      "Finished episode: 63 with reward 115.0 sample count: 1334\n",
      "Finished episode: 64 with reward 66.0 sample count: 1354\n",
      "Finished episode: 65 with reward 81.0 sample count: 1366\n",
      "Finished episode: 66 with reward 45.0 sample count: 1380\n",
      "Finished episode: 67 with reward 82.0 sample count: 1403\n",
      "Finished episode: 68 with reward 158.0 sample count: 1424\n",
      "Finished episode: 69 with reward 73.0 sample count: 1435\n",
      "Finished episode: 70 with reward 124.0 sample count: 1454\n",
      "Finished episode: 71 with reward 138.0 sample count: 1475\n",
      "Finished episode: 72 with reward 56.0 sample count: 1496\n",
      "Finished episode: 73 with reward 127.0 sample count: 1518\n",
      "Finished episode: 74 with reward 297.0 sample count: 1546\n",
      "Finished episode: 75 with reward 86.0 sample count: 1556\n",
      "Finished episode: 76 with reward 189.0 sample count: 1575\n",
      "Finished episode: 77 with reward 82.0 sample count: 1592\n",
      "Finished episode: 78 with reward 109.0 sample count: 1609\n",
      "Finished episode: 79 with reward 116.0 sample count: 1629\n",
      "Finished episode: 80 with reward 138.0 sample count: 1649\n",
      "Finished episode: 81 with reward 115.0 sample count: 1675\n",
      "Finished episode: 82 with reward 132.0 sample count: 1702\n",
      "Finished episode: 83 with reward 76.0 sample count: 1728\n",
      "Finished episode: 84 with reward 162.0 sample count: 1752\n",
      "Finished episode: 85 with reward 107.0 sample count: 1774\n",
      "Finished episode: 86 with reward 251.0 sample count: 1805\n",
      "Finished episode: 87 with reward 61.0 sample count: 1822\n",
      "Finished episode: 88 with reward 167.0 sample count: 1847\n",
      "Finished episode: 89 with reward 103.0 sample count: 1871\n",
      "Finished episode: 90 with reward 100.0 sample count: 1899\n",
      "Finished episode: 91 with reward 95.0 sample count: 1917\n",
      "Finished episode: 92 with reward 107.0 sample count: 1942\n",
      "Finished episode: 93 with reward 151.0 sample count: 1964\n",
      "Finished episode: 94 with reward 52.0 sample count: 1987\n",
      "Finished episode: 95 with reward 98.0 sample count: 2018\n",
      "Finished episode: 96 with reward 97.0 sample count: 2040\n",
      "Finished episode: 97 with reward 125.0 sample count: 2061\n",
      "Finished episode: 98 with reward 45.0 sample count: 2082\n",
      "Finished episode: 99 with reward 163.0 sample count: 2097\n",
      "Finished episode: 100 with reward 73.0 sample count: 2109\n",
      "Finished episode: 101 with reward 56.0 sample count: 2129\n",
      "Finished episode: 102 with reward 104.0 sample count: 2157\n",
      "Finished episode: 103 with reward 310.0 sample count: 2180\n",
      "Finished episode: 104 with reward 83.0 sample count: 2197\n",
      "Finished episode: 105 with reward 104.0 sample count: 2213\n",
      "Finished episode: 106 with reward 86.0 sample count: 2244\n",
      "Finished episode: 107 with reward 76.0 sample count: 2267\n",
      "Finished episode: 108 with reward 85.0 sample count: 2291\n",
      "Finished episode: 109 with reward 153.0 sample count: 2312\n",
      "Collected 2304 obvs/states with avg reward 116.46788990825688\n"
     ]
    }
   ],
   "source": [
    "NUM_SAMPLES  = 48*48    # Take 2304 total samples\n",
    "SAMPLES_PROB = 0.01     # Store a sample 1% of the time\n",
    "NO_OP_STEPS  = 30       # Max # of steps to do nothing, helps randomize init condition\n",
    "STATE_LENGTH = 4        # # of previous frames to stack as our \"state\"\n",
    "\n",
    "obvs = []               # Store observation RGB frames\n",
    "states = []             # Store 84x84x4 \n",
    "rewards = []            # Track the total reward for each episode\n",
    "ts = []                 # Store the episode timestep for each sample\n",
    "\n",
    "avg_reward = 0\n",
    "ep_count = 0\n",
    "\n",
    "# Keep playing episodes until we've collected NUM_SAMPLES\n",
    "while len(obvs) < NUM_SAMPLES:\n",
    "    ep_count += 1\n",
    "    total_reward = 0\n",
    "    terminal = False\n",
    "    \n",
    "    # Initialize environment\n",
    "    observation = env.reset()\n",
    "    # For a random # of steps do nothing, helps to randomize init state\n",
    "    for _ in range(random.randint(1, NO_OP_STEPS)):\n",
    "        observation, _, _, _ = env.step(0)  # Do nothing\n",
    "\n",
    "    # Preprocess 210x160x3 RGB observation to 84x84x1 \n",
    "    state = Util.preprocess(observation)\n",
    "    # Create initial state by repeating the first frame 4x to create 84x84x4 input\n",
    "    state = np.stack([state]*STATE_LENGTH, axis=2).reshape((84,84,4))\n",
    "\n",
    "    t = 0  # Timestep counter\n",
    "    \n",
    "    while not terminal:   \n",
    "        # With SAMPLES_PROB probability, store the last observation (210x160x3), state (84x84x4), and ep timestep\n",
    "        if random.random() < SAMPLES_PROB:\n",
    "            obvs.append(observation)\n",
    "            states.append(state)\n",
    "            ts.append(t)\n",
    "        \n",
    "        # Feed the state into the model to get an action (determined by max Q-value)\n",
    "        action = agent.get_action(state)\n",
    "        \n",
    "        # Take the action and get new observation, reward, and if we are done with the episode\n",
    "        observation, reward, terminal, _ = env.step(action)\n",
    "        \n",
    "        # Convert new observation to 84x84x1\n",
    "        next_state = Util.preprocess(observation)\n",
    "        # Pop the oldest frame and append the processed new frame\n",
    "        next_state = np.append(state, next_state, axis=2)[:,:,1:]\n",
    "\n",
    "        # Update total reward for this episode\n",
    "        total_reward += reward\n",
    "\n",
    "        # next_state will become the state input for the next timestep\n",
    "        state = next_state\n",
    "        \n",
    "        # Inc timestep counter\n",
    "        t += 1\n",
    "        \n",
    "    avg_reward += total_reward\n",
    "    print (\"Finished episode: {} with reward {} sample count: {}\".format(ep_count, total_reward, len(obvs)))\n",
    "    \n",
    "    rewards.append(total_reward)\n",
    "    \n",
    "# Clip observation/state arrays to # of samples we want\n",
    "obvs = obvs[:NUM_SAMPLES]\n",
    "states = states[:NUM_SAMPLES]\n",
    "    \n",
    "avg_reward /= ep_count\n",
    "print (\"Collected {} obvs/states with avg reward {}\".format(len(obvs), avg_reward))"
   ]
  },
  {
   "cell_type": "markdown",
   "metadata": {},
   "source": [
    "Great, now we have some data that we can transform to gain some insights into what the Q-network is doing.\n",
    "\n",
    "But first, let's see how the episode rewards are distributed:"
   ]
  },
  {
   "cell_type": "code",
   "execution_count": 4,
   "metadata": {},
   "outputs": [
    {
     "data": {
      "text/plain": [
       "(array([  4.,   2.,   3.,   6.,   2.,   4.,   8.,   7.,   5.,   5.,   3.,\n",
       "         10.,   4.,   5.,   2.,   7.,   2.,   3.,   1.,   3.,   4.,   3.,\n",
       "          3.,   1.,   2.,   0.,   0.,   2.,   1.,   0.,   0.,   0.,   0.,\n",
       "          0.,   2.,   0.,   0.,   0.,   1.,   0.,   0.,   0.,   1.,   0.,\n",
       "          0.,   0.,   0.,   2.,   0.,   1.]),\n",
       " array([  44.  ,   49.32,   54.64,   59.96,   65.28,   70.6 ,   75.92,\n",
       "          81.24,   86.56,   91.88,   97.2 ,  102.52,  107.84,  113.16,\n",
       "         118.48,  123.8 ,  129.12,  134.44,  139.76,  145.08,  150.4 ,\n",
       "         155.72,  161.04,  166.36,  171.68,  177.  ,  182.32,  187.64,\n",
       "         192.96,  198.28,  203.6 ,  208.92,  214.24,  219.56,  224.88,\n",
       "         230.2 ,  235.52,  240.84,  246.16,  251.48,  256.8 ,  262.12,\n",
       "         267.44,  272.76,  278.08,  283.4 ,  288.72,  294.04,  299.36,\n",
       "         304.68,  310.  ]),\n",
       " <a list of 50 Patch objects>)"
      ]
     },
     "execution_count": 4,
     "metadata": {},
     "output_type": "execute_result"
    },
    {
     "data": {
      "image/png": "[encoded data removed]",
      "text/plain": [
       "<matplotlib.figure.Figure at 0x7fa87e0bfdd8>"
      ]
     },
     "metadata": {},
     "output_type": "display_data"
    }
   ],
   "source": [
    "# Magic to display images inline in the notebook\n",
    "%matplotlib inline    \n",
    "import matplotlib.pyplot as plt\n",
    "\n",
    "plt.hist(np.array(rewards), bins=50)"
   ]
  },
  {
   "cell_type": "markdown",
   "metadata": {},
   "source": [
    "Now let's take a look at what these observations/states look like:"
   ]
  },
  {
   "cell_type": "code",
   "execution_count": 5,
   "metadata": {},
   "outputs": [
    {
     "data": {
      "image/png": "[encoded data removed]",
      "text/plain": [
       "<matplotlib.figure.Figure at 0x7fa81a48e2e8>"
      ]
     },
     "metadata": {},
     "output_type": "display_data"
    },
    {
     "data": {
      "image/png": "[encoded data removed]",
      "text/plain": [
       "<matplotlib.figure.Figure at 0x7fa87c092c18>"
      ]
     },
     "metadata": {},
     "output_type": "display_data"
    },
    {
     "data": {
      "image/png": "[encoded data removed]",
      "text/plain": [
       "<matplotlib.figure.Figure at 0x7fa818363128>"
      ]
     },
     "metadata": {},
     "output_type": "display_data"
    },
    {
     "data": {
      "image/png": "[encoded data removed]",
      "text/plain": [
       "<matplotlib.figure.Figure at 0x7fa818324f60>"
      ]
     },
     "metadata": {},
     "output_type": "display_data"
    },
    {
     "data": {
      "image/png": "[encoded data removed]",
      "text/plain": [
       "<matplotlib.figure.Figure at 0x7fa8182fe588>"
      ]
     },
     "metadata": {},
     "output_type": "display_data"
    }
   ],
   "source": [
    "# Choose a random sample\n",
    "rand_idx = random.randint(0, len(obvs))\n",
    "\n",
    "# Display the RGB observation image\n",
    "obv = obvs[rand_idx]\n",
    "plt.figure()\n",
    "plt.imshow(obv)\n",
    "\n",
    "# Display each frame in the 84x84x4 state stack\n",
    "state = states[rand_idx]\n",
    "for i in reversed(range(STATE_LENGTH)):\n",
    "    plt.figure()\n",
    "    plt.imshow(state[..., i], cmap=\"gray\")"
   ]
  },
  {
   "cell_type": "markdown",
   "metadata": {},
   "source": [
    "Unfortunately, the RGB observation images don't give us any information about the trajectory of the ball and in some cases don't even show the ball (due to flickering in the original game). Let's fix that.\n",
    "\n",
    "Each observation corresponds to a processed 84x84x4 state array, which contains a binary black/white version of the observation frame, as well as the 3 preceding frames. If we drop the oldest frame, we can treat the resulting 84x84x3 as an RGB image stack that shows how the state changes over 3 timesteps. We'll use this in place of the observation when visualizing with TensorBoard.\n",
    "\n",
    "When the 3 timesteps are interpreted as an RGB image, the red channel corresponds to the observation at timestep t-2, green to t-1, and blue to the current timestep. Thus, when visualizing this array as an image, the blue pixels correspond to the current observation, and green/red display the previous states. This effectively plots the trajectory and gives some indication of the velocity of the ball & paddle."
   ]
  },
  {
   "cell_type": "code",
   "execution_count": 6,
   "metadata": {},
   "outputs": [
    {
     "name": "stdout",
     "output_type": "stream",
     "text": [
      "(2304, 84, 84, 3)\n"
     ]
    },
    {
     "data": {
      "text/plain": [
       "<matplotlib.image.AxesImage at 0x7fa8181b8898>"
      ]
     },
     "execution_count": 6,
     "metadata": {},
     "output_type": "execute_result"
    },
    {
     "data": {
      "image/png": "[encoded data removed]",
      "text/plain": [
       "<matplotlib.figure.Figure at 0x7fa88a1690b8>"
      ]
     },
     "metadata": {},
     "output_type": "display_data"
    }
   ],
   "source": [
    "def state_to_rgb(state):\n",
    "    # Extract the three most recent frames and multiply by 255 to convert binary 1's -> 255\n",
    "    return state[...,1:]*255\n",
    "\n",
    "stacks = np.array([state_to_rgb(state) for state in states])\n",
    "print(stacks.shape)\n",
    "\n",
    "plt.imshow(stacks[rand_idx])"
   ]
  },
  {
   "cell_type": "markdown",
   "metadata": {},
   "source": [
    "Next, we're going to run each 84x84x4 state array through the Q network to obtain Q-values for each possible action. But first, let's take a look at the Q network architecture:"
   ]
  },
  {
   "cell_type": "code",
   "execution_count": 7,
   "metadata": {},
   "outputs": [
    {
     "data": {
      "text/plain": [
       "(2304, 84, 84, 4)"
      ]
     },
     "execution_count": 7,
     "metadata": {},
     "output_type": "execute_result"
    }
   ],
   "source": [
    "sample_obvs = stacks\n",
    "sample_states = np.array(states)\n",
    "sample_states.shape"
   ]
  },
  {
   "cell_type": "code",
   "execution_count": 9,
   "metadata": {},
   "outputs": [
    {
     "name": "stdout",
     "output_type": "stream",
     "text": [
      "Min Q 0.689732\n",
      "Max Q 12.7718\n",
      "(2304, 4)\n",
      "(2304,)\n"
     ]
    }
   ],
   "source": [
    "sample_qs = agent.q_values.eval(feed_dict={agent.s: sample_states})\n",
    "\n",
    "sample_qs_max = np.max(sample_qs, axis=1)\n",
    "# sample_qs_max = ( sample_qs_max - sample_qs_max.mean() ) / sample_qs_max.std()\n",
    "\n",
    "print (\"Min Q\",sample_qs_max.min())\n",
    "print (\"Max Q\",sample_qs_max.max())\n",
    "\n",
    "# Normalize\n",
    "# sample_qs_max_norm = (sample_qs_max - sample_qs_max.min()) / (sample_qs_max.max() - sample_qs_max.min()) * 100\n",
    "\n",
    "print(sample_qs.shape)\n",
    "print(sample_qs_max.shape)"
   ]
  },
  {
   "cell_type": "code",
   "execution_count": 10,
   "metadata": {
    "collapsed": true
   },
   "outputs": [],
   "source": [
    "# Action space corresponds to ['NOOP', 'FIRE', 'RIGHT', 'LEFT']\n",
    "sample_actions = np.argmax(sample_qs, axis=1)\n",
    "action_map = np.vectorize({0:'NOOP', 1:'FIRE', 2:'RIGHT', 3:'LEFT'}.get)\n",
    "sample_actions_map = action_map(sample_actions)"
   ]
  },
  {
   "cell_type": "code",
   "execution_count": 11,
   "metadata": {},
   "outputs": [
    {
     "data": {
      "text/plain": [
       "(2304, 512)"
      ]
     },
     "execution_count": 11,
     "metadata": {},
     "output_type": "execute_result"
    }
   ],
   "source": [
    "sample_fc_vecs = agent.q_network.get_layer('dense_1').output \\\n",
    "                       .eval(feed_dict={agent.q_network.layers[0].input: sample_states})\n",
    "sample_fc_vecs.shape"
   ]
  },
  {
   "cell_type": "code",
   "execution_count": 12,
   "metadata": {},
   "outputs": [
    {
     "name": "stdout",
     "output_type": "stream",
     "text": [
      "(8064, 6144, 3)\n"
     ]
    },
    {
     "data": {
      "text/plain": [
       "<matplotlib.image.AxesImage at 0x7fa8183a44e0>"
      ]
     },
     "execution_count": 12,
     "metadata": {},
     "output_type": "execute_result"
    },
    {
     "data": {
      "image/png": "[encoded data removed]",
      "text/plain": [
       "<matplotlib.figure.Figure at 0x7fa818245208>"
      ]
     },
     "metadata": {},
     "output_type": "display_data"
    }
   ],
   "source": [
    "import scipy\n",
    "from PIL import Image\n",
    "\n",
    "def TileImage(imgs, picturesPerRow=48, picturesPerColumn=48):\n",
    "    # Resize to 80%\n",
    "    resized = np.array([scipy.misc.imresize(img, (168, 128)) for img in imgs])\n",
    "    # Tiling Loop (The conditionals are not necessary anymore)\n",
    "    tiled = []\n",
    "    for i in range(0,picturesPerColumn*picturesPerRow,picturesPerRow):\n",
    "        tiled.append(np.hstack(resized[i:i+picturesPerRow,:,:]))\n",
    "    return np.vstack(tiled)\n",
    "\n",
    "sprite = TileImage(sample_obvs)\n",
    "print (sprite.shape)\n",
    "\n",
    "im = Image.fromarray(sprite)\n",
    "im.save('./summary/sprite.png')\n",
    "\n",
    "plt.imshow(sprite)"
   ]
  },
  {
   "cell_type": "markdown",
   "metadata": {},
   "source": [
    "## Write metadata"
   ]
  },
  {
   "cell_type": "code",
   "execution_count": 30,
   "metadata": {},
   "outputs": [],
   "source": [
    "import os\n",
    "import tensorflow as tf\n",
    "from tensorflow.examples.tutorials.mnist import input_data\n",
    "from tensorflow.contrib.tensorboard.plugins import projector\n",
    "\n",
    "LOG_DIR = './summary/'\n",
    "metadata = os.path.join(LOG_DIR, 'metadata.tsv')\n",
    "\n",
    "with open(metadata,'w') as f:\n",
    "    f.write('q-max\\taction\\ttimestep\\n')\n",
    "    for i,q in enumerate(sample_qs_max):\n",
    "        f.write(\"{:.3f}\\t{}\\t{}\\n\".format(q, sample_actions_map[i], ts[i]))"
   ]
  },
  {
   "cell_type": "code",
   "execution_count": null,
   "metadata": {
    "collapsed": true
   },
   "outputs": [],
   "source": [
    "## Run embeddings op "
   ]
  },
  {
   "cell_type": "code",
   "execution_count": 31,
   "metadata": {
    "collapsed": true
   },
   "outputs": [],
   "source": [
    "embeddings = tf.Variable(sample_fc_vecs, name='state_embeddings')\n",
    "\n",
    "with tf.Session() as sess:\n",
    "    saver = tf.train.Saver([embeddings])\n",
    "\n",
    "    sess.run(embeddings.initializer)  # Load state embeddings into the var\n",
    "    saver.save(sess, os.path.join(LOG_DIR, 'images.ckpt'))\n",
    "\n",
    "    config = projector.ProjectorConfig()\n",
    "    # One can add multiple embeddings.\n",
    "    embedding = config.embeddings.add()\n",
    "    embedding.tensor_name = embeddings.name\n",
    "    # Link this tensor to its metadata file (e.g. labels).\n",
    "    embedding.metadata_path = metadata\n",
    "    # Point to sprite image\n",
    "    embedding.sprite.image_path = './summary/sprite.png'\n",
    "    # Specify the width and height of a single thumbnail.\n",
    "    embedding.sprite.single_image_dim.extend([128, 168])\n",
    "    # Saves a config file that TensorBoard will read during startup.\n",
    "    projector.visualize_embeddings(tf.summary.FileWriter(LOG_DIR), config)"
   ]
  },
  {
   "cell_type": "markdown",
   "metadata": {},
   "source": [
    "### Now open TensorBoard and navigate to http://localhost:6006/"
   ]
  },
  {
   "cell_type": "code",
   "execution_count": null,
   "metadata": {
    "scrolled": true
   },
   "outputs": [
    {
     "name": "stdout",
     "output_type": "stream",
     "text": [
      "Starting TensorBoard b'47' at http://0.0.0.0:6006\n",
      "(Press CTRL+C to quit)\n",
      "WARNING:tensorflow:path ../external/data/plugin/text/runs not found, sending 404\n",
      "WARNING:tensorflow:path ../external/data/plugin/text/runs not found, sending 404\n",
      "WARNING:tensorflow:path ../external/data/plugin/text/runs not found, sending 404\n",
      "WARNING:tensorflow:path ../external/data/plugin/text/runs not found, sending 404\n"
     ]
    }
   ],
   "source": [
    "!tensorboard --logdir ./summary --port 6006"
   ]
  },
  {
   "cell_type": "markdown",
   "metadata": {},
   "source": [
    "### Go to the Embeddings tab and play with different color maps, labelings, and t-SNE"
   ]
  },
  {
   "cell_type": "markdown",
   "metadata": {
    "collapsed": true
   },
   "source": [
    "# Resources\n",
    "\n",
    "* Official TB Embedding Projector docs https://www.tensorflow.org/get_started/embedding_viz\n",
    "* http://www.pinchofintelligence.com/simple-introduction-to-tensorboard-embedding-visualisation/\n",
    "* http://stackoverflow.com/questions/40849116/how-to-use-tensorboard-embedding-projector\n",
    "* https://github.com/tensorflow/tensorflow/issues/6322"
   ]
  },
  {
   "cell_type": "code",
   "execution_count": null,
   "metadata": {
    "collapsed": true
   },
   "outputs": [],
   "source": []
  },
  {
   "cell_type": "code",
   "execution_count": null,
   "metadata": {
    "collapsed": true
   },
   "outputs": [],
   "source": []
  }
 ],
 "metadata": {
  "kernelspec": {
   "display_name": "Python3 PGHML venv",
   "language": "python",
   "name": "pghml-env"
  },
  "language_info": {
   "codemirror_mode": {
    "name": "ipython",
    "version": 3
   },
   "file_extension": ".py",
   "mimetype": "text/x-python",
   "name": "python",
   "nbconvert_exporter": "python",
   "pygments_lexer": "ipython3",
   "version": "3.5.2"
  }
 },
 "nbformat": 4,
 "nbformat_minor": 2
}
